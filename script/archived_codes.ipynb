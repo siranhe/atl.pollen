{
 "cells": [
  {
   "cell_type": "markdown",
   "metadata": {},
   "source": [
    "# Archived codes"
   ]
  },
  {
   "cell_type": "code",
   "execution_count": null,
   "metadata": {},
   "outputs": [],
   "source": [
    "# Split 2023, 2024, and 2025 data\n",
    "\n",
    "df_2023 = df_pollen[(df_pollen['date_dt'] >= '2023-01-01') & (df_pollen['date_dt'] <= '2023-12-31')]\n",
    "df_2023.shape\n",
    "\n",
    "df_2023['date_dt'].min() # 2023-01-01, correct\n",
    "df_2023['date_dt'].max() # 2023-12-31, correct"
   ]
  },
  {
   "cell_type": "code",
   "execution_count": null,
   "metadata": {},
   "outputs": [],
   "source": [
    "df_2024 = df_pollen[(df_pollen['date_dt'] >= '2024-01-01') & (df_pollen['date_dt'] <= '2024-12-31')]\n",
    "df_2024.shape\n",
    "\n",
    "df_2024['date_dt'].min() # 2024-01-01, correct\n",
    "df_2024['date_dt'].max() # 2024-12-31, correct"
   ]
  },
  {
   "cell_type": "code",
   "execution_count": null,
   "metadata": {},
   "outputs": [],
   "source": [
    "df_2025 = df_pollen[(df_pollen['date_dt'] >= '2025-01-01') & (df_pollen['date_dt'] <= '2025-12-31')]\n",
    "df_2025.shape\n",
    "\n",
    "df_2025['date_dt'].min() # 2025-01-01, correct\n",
    "df_2025['date_dt'].max() # 2025-12-31, correct"
   ]
  },
  {
   "cell_type": "code",
   "execution_count": null,
   "metadata": {},
   "outputs": [],
   "source": [
    "# For static figure:\n",
    "\n",
    "# Generate a colormap based on the number of unique years\n",
    "norm = plt.Normalize(years.min(), years.max())  # Normalize years\n",
    "colors = plt.colormaps['plasma']  # New method\n",
    "\n",
    "# Group data by year and plot\n",
    "for year, group in df_pollen.groupby('YEAR'):\n",
    "    ax.plot(group['normalized_date'], group['TREES'], marker='.', linestyle='-', \n",
    "            color=colors(norm(year)), label=year)"
   ]
  }
 ],
 "metadata": {
  "language_info": {
   "name": "python"
  }
 },
 "nbformat": 4,
 "nbformat_minor": 2
}
